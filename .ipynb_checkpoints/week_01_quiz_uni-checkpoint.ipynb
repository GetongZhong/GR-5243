{
 "cells": [
  {
   "cell_type": "markdown",
   "id": "cf471d8e",
   "metadata": {},
   "source": [
    "# 1. System Setup"
   ]
  },
  {
   "cell_type": "code",
   "execution_count": 1,
   "id": "39f8acba",
   "metadata": {},
   "outputs": [
    {
     "name": "stdout",
     "output_type": "stream",
     "text": [
      "python version: 3.9.13 (main, Aug 25 2022, 23:51:50) [MSC v.1916 64 bit (AMD64)]\n",
      "pandas version: 1.4.4\n",
      "sklearn version: 1.0.2\n",
      "pandas path: ['C:\\\\Users\\\\tonyg\\\\anaconda3\\\\lib\\\\site-packages\\\\pandas']\n"
     ]
    }
   ],
   "source": [
    "import sys\n",
    "import pandas\n",
    "import sklearn\n",
    "print('python version:',sys.version)\n",
    "print('pandas version:',pandas.__version__)\n",
    "print('sklearn version:',sklearn.__version__)\n",
    "print('pandas path:',pandas.__path__)"
   ]
  },
  {
   "cell_type": "markdown",
   "id": "412a2115",
   "metadata": {},
   "source": [
    "# 2. Survey"
   ]
  },
  {
   "cell_type": "markdown",
   "id": "06e288ac",
   "metadata": {},
   "source": [
    "## Please fill in the survey, and print DONE the survey for ADS\n",
    "\n",
    "[Course Survey](https://docs.google.com/forms/d/e/1FAIpQLScVAvh-Zhuc59PR1q7lO8srMVvbokMV4TclSmS1NQXL-GYsqw/viewform)\n",
    "\n",
    "- Write simple code to \"print(\"I have DONE the survey for EODS, my UNI is: {}\")\" (fill in the {} with your UNI)\n",
    "- run the survey_response.py"
   ]
  },
  {
   "cell_type": "code",
   "execution_count": 2,
   "id": "e657cc37",
   "metadata": {},
   "outputs": [
    {
     "name": "stdout",
     "output_type": "stream",
     "text": [
      "I have DONE the survey for EODS, my UNI is: gz2338\n"
     ]
    }
   ],
   "source": [
    "print(\"I have DONE the survey for EODS, my UNI is: gz2338\")"
   ]
  },
  {
   "cell_type": "code",
   "execution_count": null,
   "id": "deec922b",
   "metadata": {},
   "outputs": [],
   "source": []
  },
  {
   "cell_type": "code",
   "execution_count": null,
   "id": "4e27fa20",
   "metadata": {},
   "outputs": [],
   "source": []
  }
 ],
 "metadata": {
  "kernelspec": {
   "display_name": "Python 3 (ipykernel)",
   "language": "python",
   "name": "python3"
  },
  "language_info": {
   "codemirror_mode": {
    "name": "ipython",
    "version": 3
   },
   "file_extension": ".py",
   "mimetype": "text/x-python",
   "name": "python",
   "nbconvert_exporter": "python",
   "pygments_lexer": "ipython3",
   "version": "3.9.13"
  }
 },
 "nbformat": 4,
 "nbformat_minor": 5
}
